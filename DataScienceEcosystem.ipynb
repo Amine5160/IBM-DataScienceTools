{
 "cells": [
  {
   "cell_type": "markdown",
   "id": "d98760ec-ce02-4ebd-830b-9d02b76ca041",
   "metadata": {},
   "source": [
    "# Data Science Tools and Ecosystem"
   ]
  },
  {
   "cell_type": "markdown",
   "id": "6abc8482-dbd3-4613-ab04-bf0863877b8c",
   "metadata": {},
   "source": [
    "## In this notebook, Data Science Tools and Ecosystem are summarized."
   ]
  },
  {
   "cell_type": "markdown",
   "id": "ec54ea33-04c9-432a-89a1-642b064ecec1",
   "metadata": {},
   "source": [
    "## **Objectives:**\n",
    "\n",
    "* List popular languages for Data Science.\n",
    "* List some of the commonly used libraries by Data Scientists.\n",
    "* List some open source Data Science tools."
   ]
  },
  {
   "cell_type": "markdown",
   "id": "04204165-81f9-4b60-ad4d-ae10ca399855",
   "metadata": {},
   "source": [
    "### Some of the popular languages that Data Scientists use are:\n",
    "\n",
    "1. Python\n",
    "2. SQL\n",
    "3. R"
   ]
  },
  {
   "cell_type": "markdown",
   "id": "90002d45-0afd-4ea0-addf-a19879bac96e",
   "metadata": {},
   "source": [
    "### Some of the commonly used libraries used by Data Scientists include:\n",
    "\n",
    "1. ggplot\n",
    "2. pandas\n",
    "3. caret"
   ]
  },
  {
   "cell_type": "markdown",
   "id": "39f87877-b193-4298-a2b4-e285a5bf9447",
   "metadata": {},
   "source": [
    "### Data Science Tools\n",
    "\n",
    "Tools|\n",
    "-----|\n",
    "Apache Hadoop|\n",
    "Apache Spark|\n",
    "Apache Flink|"
   ]
  },
  {
   "cell_type": "markdown",
   "id": "d24cf000-529f-4fef-8b25-42dcd9d4d914",
   "metadata": {},
   "source": [
    "### Below are a few examples of evaluating arithmetic expressions in Python\n",
    "\n",
    "result= 5 + 3   \\\n",
    "result= 8 / 2   \\\n",
    "result= 2 ** 3"
   ]
  },
  {
   "cell_type": "markdown",
   "id": "a8a5b460-55be-48f2-be04-b148b3feb40b",
   "metadata": {},
   "source": [
    "## This a simple arithmetic expression to mutiply then add integers"
   ]
  },
  {
   "cell_type": "code",
   "execution_count": 4,
   "id": "cb405463-57eb-4221-aa95-3f7c7b7103c1",
   "metadata": {},
   "outputs": [
    {
     "name": "stdout",
     "output_type": "stream",
     "text": [
      "17\n"
     ]
    }
   ],
   "source": [
    "test= (3*4)+5\n",
    "print(test)"
   ]
  },
  {
   "cell_type": "markdown",
   "id": "fcc54890-f996-4d7d-b031-7345c70e3a29",
   "metadata": {},
   "source": [
    "## his will convert 200 minutes to hours by diving by 60"
   ]
  },
  {
   "cell_type": "code",
   "execution_count": 5,
   "id": "d2e9eeb9-eb08-4c04-a21b-1c40da9b648f",
   "metadata": {},
   "outputs": [
    {
     "name": "stdout",
     "output_type": "stream",
     "text": [
      "3 h and  20  min\n"
     ]
    }
   ],
   "source": [
    "minutes= 200\n",
    "hours= minutes//60\n",
    "minutes= minutes%60\n",
    "print(hours, \"h and \", minutes, \" min\")"
   ]
  },
  {
   "cell_type": "markdown",
   "id": "e4f7a3f1-a02c-4e03-a352-478d5fd27dd2",
   "metadata": {},
   "source": [
    "## Author:\n",
    "Mohamed Amine Triki"
   ]
  },
  {
   "cell_type": "code",
   "execution_count": null,
   "id": "b24e64ed-c912-424b-a008-177277319e7d",
   "metadata": {},
   "outputs": [],
   "source": []
  }
 ],
 "metadata": {
  "kernelspec": {
   "display_name": "Python [conda env:base] *",
   "language": "python",
   "name": "conda-base-py"
  },
  "language_info": {
   "codemirror_mode": {
    "name": "ipython",
    "version": 3
   },
   "file_extension": ".py",
   "mimetype": "text/x-python",
   "name": "python",
   "nbconvert_exporter": "python",
   "pygments_lexer": "ipython3",
   "version": "3.13.5"
  }
 },
 "nbformat": 4,
 "nbformat_minor": 5
}
